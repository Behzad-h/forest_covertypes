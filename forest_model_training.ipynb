{
 "cells": [
  {
   "attachments": {},
   "cell_type": "markdown",
   "metadata": {},
   "source": [
    "# **Model Training for the Forest Covertypes Data**"
   ]
  },
  {
   "attachments": {},
   "cell_type": "markdown",
   "metadata": {},
   "source": [
    "![Image](https://cdn.shopify.com/s/files/1/0326/7189/t/65/assets/pf-85b5b49e--Website-Header-2000px-x-600px.jpg?v=1625226604)"
   ]
  },
  {
   "attachments": {},
   "cell_type": "markdown",
   "metadata": {},
   "source": [
    "[Image Credit](https://onetreeplanted.org/pages/million-tree-challenge) <br>\n",
    "\n",
    "In this notebook, the data of **Forest Cover Type Prediction** is used to develop prediction models. <br>\n",
    "The data can be downloaded from: <br>\n",
    "https://www.kaggle.com/competitions/forest-cover-type-prediction/data "
   ]
  },
  {
   "cell_type": "code",
   "execution_count": 156,
   "metadata": {},
   "outputs": [],
   "source": [
    "# importing libraries\n",
    "import pandas as pd\n",
    "import numpy as np\n",
    "import matplotlib.pyplot as plt\n",
    "import seaborn as sns\n",
    "import ppscore as pps\n",
    "import os\n",
    "\n",
    "# to bypass warnings in various dataframe assignments\n",
    "pd.options.mode.chained_assignment = None\n",
    "\n",
    "pd.set_option('display.max_columns', 60)\n",
    "%matplotlib inline\n",
    "\n",
    "from sklearn.model_selection import train_test_split\n",
    "from sklearn.preprocessing import StandardScaler\n",
    "from sklearn.dummy import DummyClassifier\n",
    "from sklearn.ensemble import GradientBoostingClassifier\n",
    "from sklearn.ensemble import RandomForestClassifier\n",
    "from sklearn.tree import DecisionTreeClassifier\n",
    "from sklearn.neighbors import KNeighborsClassifier\n",
    "from sklearn.linear_model import LogisticRegression\n",
    "from sklearn.ensemble import ExtraTreesClassifier\n",
    "from sklearn.model_selection import RepeatedKFold\n",
    "from skopt import BayesSearchCV\n",
    "from skopt.space import Real, Categorical, Integer\n",
    "from sklearn.metrics import accuracy_score\n",
    "from sklearn.metrics import confusion_matrix\n"
   ]
  },
  {
   "cell_type": "code",
   "execution_count": 94,
   "metadata": {},
   "outputs": [],
   "source": [
    "# Loading data\n",
    "train = pd.read_csv(\"data/processed/train.csv\")\n",
    "test = pd.read_csv(\"data/processed/test.csv\")\n",
    "\n",
    "sample_submission = pd.read_csv(\"data/raw/sampleSubmission.csv\")"
   ]
  },
  {
   "attachments": {},
   "cell_type": "markdown",
   "metadata": {},
   "source": [
    "## **1. Feature-Label:**\n",
    "The first thing we need to do is separating the label from the features."
   ]
  },
  {
   "cell_type": "code",
   "execution_count": 86,
   "metadata": {},
   "outputs": [],
   "source": [
    "# Splitting data into features and labels\n",
    "x_train = train.drop(['Cover_Type','Id'], axis=1)\n",
    "y_train = train['Cover_Type']\n",
    "\n",
    "x_test = test.drop(['Id'], axis=1)"
   ]
  },
  {
   "attachments": {},
   "cell_type": "markdown",
   "metadata": {},
   "source": [
    "Since we are going to implement cross-validation and considering that we already have a blind test set, we do not split the training set to train-validation. "
   ]
  },
  {
   "cell_type": "code",
   "execution_count": 88,
   "metadata": {},
   "outputs": [
    {
     "name": "stdout",
     "output_type": "stream",
     "text": [
      "Shape of training input:  (14988, 54)\n",
      "Shape of training labels:  (14988,)\n",
      "Shape of test input:  (565892, 54)\n"
     ]
    }
   ],
   "source": [
    "# checking the shape of the data\n",
    "print(\"Shape of training input: \", x_train.shape)\n",
    "print(\"Shape of training labels: \", y_train.shape)\n",
    "print(\"Shape of test input: \", x_test.shape)"
   ]
  },
  {
   "attachments": {},
   "cell_type": "markdown",
   "metadata": {},
   "source": [
    "## **2. Creating Baseline Model:**\n",
    "In this section, we create a baseline model which is used as a benchmark to compare the performance of the other models. <br>\n",
    "This model is usually a simple method of predicting labels based on the relationships between the features and the target. If there are obvious relationships, we can make predictions based on that. If we have access to an expert who is aware of such relationships based on the underlying technical principles, we can code it to arrive at some predictions. <br>\n",
    "Considering the lack of the above knwoledge, we make the baseline predictions based on a stratified selection from the target classes using `DummyClassifier` as follows."
   ]
  },
  {
   "cell_type": "code",
   "execution_count": 89,
   "metadata": {},
   "outputs": [
    {
     "name": "stdout",
     "output_type": "stream",
     "text": [
      "The accuracy of the dummy algorithm is 0.141 over the training set.\n"
     ]
    }
   ],
   "source": [
    "# Create dummy classifer\n",
    "dummy = DummyClassifier(strategy='stratified', random_state=1)\n",
    "\n",
    "# train the model\n",
    "dummy.fit(x_train, y_train)\n",
    "\n",
    "# accuracy score of the model on the training set\n",
    "accuracy_dm = dummy.score(x_train, y_train)\n",
    "print(f'The accuracy of the dummy algorithm is {accuracy_dm.round(3)} over the training set.')"
   ]
  },
  {
   "attachments": {},
   "cell_type": "markdown",
   "metadata": {},
   "source": [
    "As can be seen, the dummy classifier could predict only 13.5 % of the labels correctly in the validation set. <br>\n",
    "It's time to try other classifiers."
   ]
  },
  {
   "attachments": {},
   "cell_type": "markdown",
   "metadata": {},
   "source": [
    "## **3. Developing Prediction Models Using All Features:**\n",
    "In this section, we develop several machine learning models to predict the cover types in the validation set. <br>\n",
    "These models are:\n",
    "* Logistic Regression\n",
    "* K-Nearest Neighbors\n",
    "* Decision Tree\n",
    "* Gradient Boosting Tree\n",
    "* Random Forest\n",
    "* Extra Trees (Extreme Random Forest)\n",
    "\n",
    "In order to make sure the best models will be fitted on the data, 5-fold cross validation together with hyperparameters tuning based on Bayesian optimization is applied to all the models. <br>\n",
    "\n",
    "**Standardizing data before training?** <br>\n",
    "\n",
    "For some algorithms, it is very important to scale data before training the models. This can significantly affect the performance of the models. Some comparisons between the performance of models developed using scaled data and unscaled data can be found [here](https://scikit-learn.org/stable/auto_examples/preprocessing/plot_scaling_importance.html). It states that:\n",
    "\n",
    "> Even if tree based models are (almost) not affected by scaling, many other algorithms require features to be normalized, often for different reasons: to ease the convergence (such as a non-penalized logistic regression), to create a completely different model fit compared to the fit with unscaled data (such as KNeighbors models). The latter is demoed on the first part of the present example.\n",
    "\n",
    "So, we first standardize the data based on Z-score normalization as follows:"
   ]
  },
  {
   "cell_type": "code",
   "execution_count": 90,
   "metadata": {},
   "outputs": [
    {
     "name": "stdout",
     "output_type": "stream",
     "text": [
      "Shape of training input:  (14988, 54)\n",
      "Shape of test input:  (565892, 54)\n"
     ]
    }
   ],
   "source": [
    "# standardize the train, validation, and test data all based on the training data excluding binary features\n",
    "binary_features = ['Wilderness_Area1', 'Wilderness_Area2', 'Wilderness_Area3', 'Wilderness_Area4', 'Soil_Type1', 'Soil_Type2', 'Soil_Type3', \n",
    "'Soil_Type4', 'Soil_Type5', 'Soil_Type6', 'Soil_Type8', 'Soil_Type9', 'Soil_Type10', 'Soil_Type11', 'Soil_Type12', 'Soil_Type13',\n",
    " 'Soil_Type14', 'Soil_Type16', 'Soil_Type17', 'Soil_Type18', 'Soil_Type19', 'Soil_Type20', 'Soil_Type21', 'Soil_Type22', \n",
    " 'Soil_Type23', 'Soil_Type24', 'Soil_Type25', 'Soil_Type26', 'Soil_Type27', 'Soil_Type28', 'Soil_Type29', 'Soil_Type30', 'Soil_Type31', \n",
    " 'Soil_Type32', 'Soil_Type33', 'Soil_Type34', 'Soil_Type35', 'Soil_Type36', 'Soil_Type37', 'Soil_Type38', 'Soil_Type39', 'Soil_Type40']\n",
    "\n",
    "# standardize the data\n",
    "scaler = StandardScaler()\n",
    "x_train_scaled = scaler.fit_transform(x_train.drop(binary_features, axis=1))\n",
    "x_test_scaled = scaler.transform(x_test.drop(binary_features, axis=1))\n",
    "\n",
    "# convert the numpy arrays to dataframes\n",
    "x_train_scaled = pd.DataFrame(x_train_scaled, columns=x_train.drop(binary_features, axis=1).columns)\n",
    "x_test_scaled = pd.DataFrame(x_test_scaled, columns=x_test.drop(binary_features, axis=1).columns)\n",
    "\n",
    "# add the binary features back to the dataframes\n",
    "x_train_scaled = pd.concat((x_train_scaled, x_train[binary_features].reset_index(drop=True)), axis=1)\n",
    "x_test_scaled = pd.concat((x_test_scaled, x_test[binary_features].reset_index(drop=True)), axis=1)\n",
    "\n",
    "# check the shape of the data\n",
    "print(\"Shape of training input: \", x_train_scaled.shape)\n",
    "print(\"Shape of test input: \", x_test_scaled.shape)"
   ]
  },
  {
   "attachments": {},
   "cell_type": "markdown",
   "metadata": {},
   "source": [
    "### **3.1 Model 1: Logistic Regression**\n",
    "The first model we are going to develop is logistic regression using `LogisticRegression` from scikit-learn."
   ]
  },
  {
   "cell_type": "code",
   "execution_count": 112,
   "metadata": {},
   "outputs": [
    {
     "data": {
      "text/plain": [
       "BayesSearchCV(cv=RepeatedKFold(n_repeats=1, n_splits=5, random_state=1),\n",
       "              estimator=LogisticRegression(multi_class='multinomial',\n",
       "                                           solver='newton-cg'),\n",
       "              n_jobs=-1, random_state=1, return_train_score=True,\n",
       "              search_spaces={'C': Real(low=0.001, high=100, prior='log-uniform', transform='normalize'),\n",
       "                             'fit_intercept': [False, True]})"
      ]
     },
     "execution_count": 112,
     "metadata": {},
     "output_type": "execute_result"
    }
   ],
   "source": [
    "model = LogisticRegression(solver='newton-cg', multi_class='multinomial')\n",
    "param_grid = {'fit_intercept' : [False, True],\n",
    "              'C'             : Real(1e-3, 100, prior='log-uniform')}\n",
    "cv = RepeatedKFold(n_splits=5, n_repeats=1, random_state=1)\n",
    "search1 = BayesSearchCV(estimator=model, search_spaces=param_grid, cv=cv, n_jobs=-1, return_train_score=True, random_state=1, verbose=0)\n",
    "search1.fit(x_train_scaled, y_train)"
   ]
  },
  {
   "attachments": {},
   "cell_type": "markdown",
   "metadata": {},
   "source": [
    "Lets check the average CV scores and the best hyperparameters:"
   ]
  },
  {
   "cell_type": "code",
   "execution_count": 119,
   "metadata": {},
   "outputs": [
    {
     "name": "stdout",
     "output_type": "stream",
     "text": [
      "Optimal hyperparameters of the model = OrderedDict([('C', 2.7502092219694063), ('fit_intercept', True)])\n",
      "CV AVG train score of the model = 0.7137\n",
      "CV AVG validation score of the model = 0.7081\n"
     ]
    }
   ],
   "source": [
    "accuracy_lr_cv_train = search1.cv_results_['mean_train_score'][search1.best_index_].round(4)\n",
    "accuracy_lr_cv_val = search1.cv_results_['mean_test_score'][search1.best_index_].round(4)\n",
    "\n",
    "print(f\"Optimal hyperparameters of the model = {search1.best_params_}\")\n",
    "print(f\"CV AVG train score of the model = {accuracy_lr_cv_train}\")\n",
    "print(f\"CV AVG validation score of the model = {accuracy_lr_cv_val}\")"
   ]
  },
  {
   "attachments": {},
   "cell_type": "markdown",
   "metadata": {},
   "source": [
    "Now, it is time to build model with the optimal hyperparameters using the whole training data (without cross-validation). Then, make final predictions on the blind test data."
   ]
  },
  {
   "cell_type": "code",
   "execution_count": 114,
   "metadata": {},
   "outputs": [
    {
     "name": "stdout",
     "output_type": "stream",
     "text": [
      "The accuracy of the model over the training data is 0.713.\n"
     ]
    },
    {
     "data": {
      "text/plain": [
       "(565892,)"
      ]
     },
     "execution_count": 114,
     "metadata": {},
     "output_type": "execute_result"
    }
   ],
   "source": [
    "# train model with optimal hyperparameters on the entire training data\n",
    "model1 = LogisticRegression(solver='newton-cg', multi_class='multinomial', **search1.best_params_)\n",
    "model1.fit(x_train_scaled, y_train)\n",
    "\n",
    "# check the accuracy of the model on the training data itself\n",
    "y_pred = model1.predict(x_train_scaled)\n",
    "accuracy_lr_train = accuracy_score(y_train, y_pred)\n",
    "print(f'The accuracy of the model over the training data is {accuracy_lr_train.round(3)}.')\n",
    "\n",
    "# make predictions on the test data\n",
    "y_pred = model1.predict(x_test_scaled)\n",
    "y_pred.shape"
   ]
  },
  {
   "attachments": {},
   "cell_type": "markdown",
   "metadata": {},
   "source": [
    "We make a csv file of the predictions to submit it."
   ]
  },
  {
   "cell_type": "code",
   "execution_count": 117,
   "metadata": {},
   "outputs": [
    {
     "data": {
      "text/plain": [
       "1    201932\n",
       "2    187825\n",
       "5     67134\n",
       "7     43203\n",
       "6     32439\n",
       "3     27185\n",
       "4      6174\n",
       "Name: Cover_Type, dtype: int64"
      ]
     },
     "execution_count": 117,
     "metadata": {},
     "output_type": "execute_result"
    }
   ],
   "source": [
    "submission1 = sample_submission.copy()\n",
    "submission1['Cover_Type'] = y_pred\n",
    "\n",
    "# Save the submission file\n",
    "submission1.to_csv('data/prediction/submission1.csv', index=False)\n",
    "\n",
    "# Check the submission file\n",
    "submission1['Cover_Type'].value_counts()"
   ]
  },
  {
   "cell_type": "code",
   "execution_count": 144,
   "metadata": {},
   "outputs": [],
   "source": [
    "# based on Kaggle \n",
    "accuracy_lr_test = 0.597"
   ]
  },
  {
   "attachments": {},
   "cell_type": "markdown",
   "metadata": {},
   "source": [
    "##### **Final Scores: CV train = 0.7137 | CV validation = 0.7081 | test (blind): 0.597** <br>\n",
    "_________________________________________________________________________________________________________________________________________________\n",
    "_________________________________________________________________________________________________________________________________________________"
   ]
  },
  {
   "attachments": {},
   "cell_type": "markdown",
   "metadata": {},
   "source": [
    "### **3.2 Model 2: K-Nearest Neighbors**\n",
    "The second model we are going to develop is k-nearest neighbors using `KNeighborsClassifier` from scikit-learn."
   ]
  },
  {
   "cell_type": "code",
   "execution_count": 121,
   "metadata": {},
   "outputs": [
    {
     "data": {
      "text/plain": [
       "BayesSearchCV(cv=RepeatedKFold(n_repeats=1, n_splits=5, random_state=1),\n",
       "              estimator=KNeighborsClassifier(), n_iter=10, n_jobs=-1,\n",
       "              random_state=1, return_train_score=True,\n",
       "              search_spaces={'n_neighbors': Integer(low=1, high=40, prior='uniform', transform='normalize'),\n",
       "                             'weights': Categorical(categories=('uniform', 'distance'), prior=None)})"
      ]
     },
     "execution_count": 121,
     "metadata": {},
     "output_type": "execute_result"
    }
   ],
   "source": [
    "model = KNeighborsClassifier()\n",
    "param_grid = {'n_neighbors' : Integer(1,40), \n",
    "              'weights'     : Categorical(['uniform', 'distance'])}\n",
    "cv = RepeatedKFold(n_splits=5, n_repeats=1, random_state=1)\n",
    "search2 = BayesSearchCV(estimator=model, search_spaces=param_grid, n_iter=10, cv=cv, n_jobs=-1, return_train_score=True, random_state=1, verbose=0)\n",
    "search2.fit(x_train_scaled, y_train)"
   ]
  },
  {
   "attachments": {},
   "cell_type": "markdown",
   "metadata": {},
   "source": [
    "Lets check the average CV scores and the best hyperparameters:"
   ]
  },
  {
   "cell_type": "code",
   "execution_count": 122,
   "metadata": {},
   "outputs": [
    {
     "name": "stdout",
     "output_type": "stream",
     "text": [
      "Optimal hyperparameters of the model = OrderedDict([('n_neighbors', 6), ('weights', 'uniform')])\n",
      "CV AVG train score of the model = 0.8493\n",
      "CV AVG validation score of the model = 0.7846\n"
     ]
    }
   ],
   "source": [
    "accuracy_knn_cv_train = search2.cv_results_['mean_train_score'][search2.best_index_].round(4)\n",
    "accuracy_knn_cv_val = search2.cv_results_['mean_test_score'][search2.best_index_].round(4)\n",
    "\n",
    "print(f\"Optimal hyperparameters of the model = {search2.best_params_}\")\n",
    "print(f\"CV AVG train score of the model = {accuracy_knn_cv_train}\")\n",
    "print(f\"CV AVG validation score of the model = {accuracy_knn_cv_val}\")"
   ]
  },
  {
   "attachments": {},
   "cell_type": "markdown",
   "metadata": {},
   "source": [
    "Now, it is time to build model with the optimal hyperparameters using the whole training data (without cross-validation). Then, make final predictions on the blind test data."
   ]
  },
  {
   "cell_type": "code",
   "execution_count": 123,
   "metadata": {},
   "outputs": [
    {
     "name": "stderr",
     "output_type": "stream",
     "text": [
      "c:\\Users\\MIO\\.conda\\envs\\envtf\\lib\\site-packages\\sklearn\\neighbors\\_classification.py:228: FutureWarning: Unlike other reduction functions (e.g. `skew`, `kurtosis`), the default behavior of `mode` typically preserves the axis it acts along. In SciPy 1.11.0, this behavior will change: the default value of `keepdims` will become False, the `axis` over which the statistic is taken will be eliminated, and the value None will no longer be accepted. Set `keepdims` to True or False to avoid this warning.\n",
      "  mode, _ = stats.mode(_y[neigh_ind, k], axis=1)\n"
     ]
    },
    {
     "name": "stdout",
     "output_type": "stream",
     "text": [
      "The accuracy of the model over the training data is 0.858.\n"
     ]
    },
    {
     "name": "stderr",
     "output_type": "stream",
     "text": [
      "c:\\Users\\MIO\\.conda\\envs\\envtf\\lib\\site-packages\\sklearn\\neighbors\\_classification.py:228: FutureWarning: Unlike other reduction functions (e.g. `skew`, `kurtosis`), the default behavior of `mode` typically preserves the axis it acts along. In SciPy 1.11.0, this behavior will change: the default value of `keepdims` will become False, the `axis` over which the statistic is taken will be eliminated, and the value None will no longer be accepted. Set `keepdims` to True or False to avoid this warning.\n",
      "  mode, _ = stats.mode(_y[neigh_ind, k], axis=1)\n"
     ]
    },
    {
     "data": {
      "text/plain": [
       "(565892,)"
      ]
     },
     "execution_count": 123,
     "metadata": {},
     "output_type": "execute_result"
    }
   ],
   "source": [
    "# train model with optimal hyperparameters on the entire training data\n",
    "model2 = KNeighborsClassifier(**search2.best_params_)\n",
    "model2.fit(x_train_scaled, y_train)\n",
    "\n",
    "# check the accuracy of the model on the training data itself\n",
    "y_pred = model2.predict(x_train_scaled)\n",
    "accuracy_knn_train = accuracy_score(y_train, y_pred)\n",
    "print(f'The accuracy of the model over the training data is {accuracy_knn_train.round(3)}.')\n",
    "\n",
    "# make predictions on the test data\n",
    "y_pred = model2.predict(x_test_scaled)\n",
    "y_pred.shape"
   ]
  },
  {
   "attachments": {},
   "cell_type": "markdown",
   "metadata": {},
   "source": [
    "We make a csv file of the predictions to submit it."
   ]
  },
  {
   "cell_type": "code",
   "execution_count": 124,
   "metadata": {},
   "outputs": [
    {
     "data": {
      "text/plain": [
       "1    217106\n",
       "2    187152\n",
       "5     55709\n",
       "7     37077\n",
       "3     35520\n",
       "6     28654\n",
       "4      4674\n",
       "Name: Cover_Type, dtype: int64"
      ]
     },
     "execution_count": 124,
     "metadata": {},
     "output_type": "execute_result"
    }
   ],
   "source": [
    "submission2 = sample_submission.copy()\n",
    "submission2['Cover_Type'] = y_pred\n",
    "\n",
    "# Save the submission file\n",
    "submission2.to_csv('data/prediction/submission2.csv', index=False)\n",
    "\n",
    "# Check the submission file\n",
    "submission2['Cover_Type'].value_counts()"
   ]
  },
  {
   "cell_type": "code",
   "execution_count": 145,
   "metadata": {},
   "outputs": [],
   "source": [
    "# based on Kaggle \n",
    "accuracy_knn_test = 0.643"
   ]
  },
  {
   "attachments": {},
   "cell_type": "markdown",
   "metadata": {},
   "source": [
    "##### **Final Scores: CV train = 0.8493 | CV validation = 0.7846 | test (blind): 0.643** <br>\n",
    "_________________________________________________________________________________________________________________________________________________\n",
    "_________________________________________________________________________________________________________________________________________________"
   ]
  },
  {
   "attachments": {},
   "cell_type": "markdown",
   "metadata": {},
   "source": [
    "### **3.3 Model 3: Decision Tree**\n",
    "The third model we are going to develop is decision tree using `DecisionTreeClassifier` from scikit-learn."
   ]
  },
  {
   "cell_type": "code",
   "execution_count": 125,
   "metadata": {},
   "outputs": [
    {
     "data": {
      "text/plain": [
       "BayesSearchCV(cv=RepeatedKFold(n_repeats=1, n_splits=5, random_state=1),\n",
       "              estimator=DecisionTreeClassifier(), n_iter=10, n_jobs=-1,\n",
       "              random_state=1, return_train_score=True,\n",
       "              search_spaces={'max_depth': Integer(low=1, high=30, prior='uniform', transform='normalize')})"
      ]
     },
     "execution_count": 125,
     "metadata": {},
     "output_type": "execute_result"
    }
   ],
   "source": [
    "model = DecisionTreeClassifier()\n",
    "param_grid = {'max_depth':Integer(1,30)}\n",
    "cv = RepeatedKFold(n_splits=5, n_repeats=1, random_state=1)\n",
    "search3 = BayesSearchCV(estimator=model, search_spaces=param_grid, n_iter=10, cv=cv, n_jobs=-1, return_train_score=True, random_state=1, verbose=0)\n",
    "search3.fit(x_train_scaled, y_train)"
   ]
  },
  {
   "attachments": {},
   "cell_type": "markdown",
   "metadata": {},
   "source": [
    "Lets check the average CV scores and the best hyperparameters:"
   ]
  },
  {
   "cell_type": "code",
   "execution_count": 126,
   "metadata": {},
   "outputs": [
    {
     "name": "stdout",
     "output_type": "stream",
     "text": [
      "Optimal hyperparameters of the model = OrderedDict([('max_depth', 21)])\n",
      "CV AVG train score of the model = 0.9935\n",
      "CV AVG validation score of the model = 0.7971\n"
     ]
    }
   ],
   "source": [
    "accuracy_dt_cv_train = search3.cv_results_['mean_train_score'][search3.best_index_].round(4)\n",
    "accuracy_dt_cv_val = search3.cv_results_['mean_test_score'][search3.best_index_].round(4)\n",
    "\n",
    "print(f\"Optimal hyperparameters of the model = {search3.best_params_}\")\n",
    "print(f\"CV AVG train score of the model = {accuracy_dt_cv_train}\")\n",
    "print(f\"CV AVG validation score of the model = {accuracy_dt_cv_val}\")"
   ]
  },
  {
   "attachments": {},
   "cell_type": "markdown",
   "metadata": {},
   "source": [
    "Now, it is time to build model with the optimal hyperparameters using the whole training data (without cross-validation). Then, make final predictions on the blind test data."
   ]
  },
  {
   "cell_type": "code",
   "execution_count": 127,
   "metadata": {},
   "outputs": [
    {
     "name": "stdout",
     "output_type": "stream",
     "text": [
      "The accuracy of the model over the training data is 0.994.\n"
     ]
    },
    {
     "data": {
      "text/plain": [
       "(565892,)"
      ]
     },
     "execution_count": 127,
     "metadata": {},
     "output_type": "execute_result"
    }
   ],
   "source": [
    "# train model with optimal hyperparameters on the entire training data\n",
    "model3 = DecisionTreeClassifier(**search3.best_params_)\n",
    "model3.fit(x_train_scaled, y_train)\n",
    "\n",
    "# check the accuracy of the model on the training data itself\n",
    "y_pred = model3.predict(x_train_scaled)\n",
    "accuracy_dt_train = accuracy_score(y_train, y_pred)\n",
    "print(f'The accuracy of the model over the training data is {accuracy_dt_train.round(3)}.')\n",
    "\n",
    "# make predictions on the test data\n",
    "y_pred = model3.predict(x_test_scaled)\n",
    "y_pred.shape"
   ]
  },
  {
   "attachments": {},
   "cell_type": "markdown",
   "metadata": {},
   "source": [
    "We make a csv file of the predictions to submit it."
   ]
  },
  {
   "cell_type": "code",
   "execution_count": 128,
   "metadata": {},
   "outputs": [
    {
     "data": {
      "text/plain": [
       "2    223022\n",
       "1    206127\n",
       "5     38723\n",
       "3     35546\n",
       "7     34382\n",
       "6     25428\n",
       "4      2664\n",
       "Name: Cover_Type, dtype: int64"
      ]
     },
     "execution_count": 128,
     "metadata": {},
     "output_type": "execute_result"
    }
   ],
   "source": [
    "submission3 = sample_submission.copy()\n",
    "submission3['Cover_Type'] = y_pred\n",
    "\n",
    "# Save the submission file\n",
    "submission3.to_csv('data/prediction/submission3.csv', index=False)\n",
    "\n",
    "# Check the submission file\n",
    "submission3['Cover_Type'].value_counts()"
   ]
  },
  {
   "cell_type": "code",
   "execution_count": 146,
   "metadata": {},
   "outputs": [],
   "source": [
    "# based on Kaggle \n",
    "accuracy_dt_test = 0.672"
   ]
  },
  {
   "attachments": {},
   "cell_type": "markdown",
   "metadata": {},
   "source": [
    "##### **Final Scores: CV train = 0.9935 | CV validation = 0.7971 | test (blind): 0.672** <br>\n",
    "_________________________________________________________________________________________________________________________________________________\n",
    "_________________________________________________________________________________________________________________________________________________"
   ]
  },
  {
   "attachments": {},
   "cell_type": "markdown",
   "metadata": {},
   "source": [
    "### **3.4 Model 4: Gradient Boosting Tree**\n",
    "The fourth model we are going to develop is gradient boosting tree using `GradientBoostingClassifier` from scikit-learn."
   ]
  },
  {
   "cell_type": "code",
   "execution_count": 129,
   "metadata": {},
   "outputs": [
    {
     "data": {
      "text/plain": [
       "BayesSearchCV(cv=RepeatedKFold(n_repeats=1, n_splits=5, random_state=1),\n",
       "              estimator=GradientBoostingClassifier(), n_iter=10, n_jobs=-1,\n",
       "              random_state=1, return_train_score=True,\n",
       "              search_spaces={'learning_rate': Real(low=0.001, high=1, prior='log-uniform', transform='normalize'),\n",
       "                             'max_depth': Integer(low=1, high=20, prior='uniform', transform='normalize'),\n",
       "                             'n_estimators': Integer(low=1, high=300, prior='uniform', transform='normalize')})"
      ]
     },
     "execution_count": 129,
     "metadata": {},
     "output_type": "execute_result"
    }
   ],
   "source": [
    "model = GradientBoostingClassifier()\n",
    "param_grid = {'max_depth'     : Integer(1,20), \n",
    "              'learning_rate' : Real(1e-3, 1, prior='log-uniform'),\n",
    "              'n_estimators'  : Integer(1,300)}\n",
    "cv = RepeatedKFold(n_splits=5, n_repeats=1, random_state=1)\n",
    "search4 = BayesSearchCV(estimator=model, search_spaces=param_grid, n_iter=10, cv=cv, n_jobs=-1, return_train_score=True, random_state=1, verbose=0)\n",
    "search4.fit(x_train_scaled, y_train)"
   ]
  },
  {
   "attachments": {},
   "cell_type": "markdown",
   "metadata": {},
   "source": [
    "Lets check the average CV scores and the best hyperparameters:"
   ]
  },
  {
   "cell_type": "code",
   "execution_count": 130,
   "metadata": {},
   "outputs": [
    {
     "name": "stdout",
     "output_type": "stream",
     "text": [
      "Optimal hyperparameters of the model = OrderedDict([('learning_rate', 0.021992361138544005), ('max_depth', 11), ('n_estimators', 260)])\n",
      "CV AVG train score of the model = 1.0\n",
      "CV AVG validation score of the model = 0.8634\n"
     ]
    }
   ],
   "source": [
    "accuracy_gbt_cv_train = search4.cv_results_['mean_train_score'][search4.best_index_].round(4)\n",
    "accuracy_gbt_cv_val = search4.cv_results_['mean_test_score'][search4.best_index_].round(4)\n",
    "\n",
    "print(f\"Optimal hyperparameters of the model = {search4.best_params_}\")\n",
    "print(f\"CV AVG train score of the model = {accuracy_gbt_cv_train}\")\n",
    "print(f\"CV AVG validation score of the model = {accuracy_gbt_cv_val}\")"
   ]
  },
  {
   "attachments": {},
   "cell_type": "markdown",
   "metadata": {},
   "source": [
    "Now, it is time to build model with the optimal hyperparameters using the whole training data (without cross-validation). Then, make final predictions on the blind test data."
   ]
  },
  {
   "cell_type": "code",
   "execution_count": 131,
   "metadata": {},
   "outputs": [
    {
     "name": "stdout",
     "output_type": "stream",
     "text": [
      "The accuracy of the model over the training data is 1.0.\n"
     ]
    },
    {
     "data": {
      "text/plain": [
       "(565892,)"
      ]
     },
     "execution_count": 131,
     "metadata": {},
     "output_type": "execute_result"
    }
   ],
   "source": [
    "# train model with optimal hyperparameters on the entire training data\n",
    "model4 = GradientBoostingClassifier(**search4.best_params_)\n",
    "model4.fit(x_train_scaled, y_train)\n",
    "\n",
    "# check the accuracy of the model on the training data itself\n",
    "y_pred = model4.predict(x_train_scaled)\n",
    "accuracy_gbt_train = accuracy_score(y_train, y_pred)\n",
    "print(f'The accuracy of the model over the training data is {accuracy_gbt_train.round(3)}.')\n",
    "\n",
    "# make predictions on the test data\n",
    "y_pred = model4.predict(x_test_scaled)\n",
    "y_pred.shape"
   ]
  },
  {
   "attachments": {},
   "cell_type": "markdown",
   "metadata": {},
   "source": [
    "We make a csv file of the predictions to submit it."
   ]
  },
  {
   "cell_type": "code",
   "execution_count": 132,
   "metadata": {},
   "outputs": [
    {
     "data": {
      "text/plain": [
       "2    235714\n",
       "1    209589\n",
       "3     35927\n",
       "7     29720\n",
       "5     28529\n",
       "6     24237\n",
       "4      2176\n",
       "Name: Cover_Type, dtype: int64"
      ]
     },
     "execution_count": 132,
     "metadata": {},
     "output_type": "execute_result"
    }
   ],
   "source": [
    "submission4 = sample_submission.copy()\n",
    "submission4['Cover_Type'] = y_pred\n",
    "\n",
    "# Save the submission file\n",
    "submission4.to_csv('data/prediction/submission4.csv', index=False)\n",
    "\n",
    "# Check the submission file\n",
    "submission4['Cover_Type'].value_counts()"
   ]
  },
  {
   "cell_type": "code",
   "execution_count": 147,
   "metadata": {},
   "outputs": [],
   "source": [
    "# based on Kaggle \n",
    "accuracy_gbt_test = 0.761"
   ]
  },
  {
   "attachments": {},
   "cell_type": "markdown",
   "metadata": {},
   "source": [
    "##### **Final Scores: CV train = 1.0 | CV validation = 0.8634 | test (blind): 0.761** <br>\n",
    "_________________________________________________________________________________________________________________________________________________\n",
    "_________________________________________________________________________________________________________________________________________________"
   ]
  },
  {
   "attachments": {},
   "cell_type": "markdown",
   "metadata": {},
   "source": [
    "### **3.5 Model 5: Random Forest**\n",
    "The fifth model we are going to develop is random forest using `RandomForestClassifier` from scikit-learn."
   ]
  },
  {
   "cell_type": "code",
   "execution_count": 134,
   "metadata": {},
   "outputs": [
    {
     "data": {
      "text/plain": [
       "BayesSearchCV(cv=RepeatedKFold(n_repeats=1, n_splits=5, random_state=1),\n",
       "              estimator=RandomForestClassifier(), n_iter=10, n_jobs=-1,\n",
       "              random_state=1, return_train_score=True,\n",
       "              search_spaces={'bootstrap': [True],\n",
       "                             'max_depth': Integer(low=1, high=20, prior='uniform', transform='normalize'),\n",
       "                             'max_features': Integer(low=1, high=16, prior='uniform', transform='normalize'),\n",
       "                             'max_samples': [0.1, 0.2, 0.3, 0.4, 0.5, 0.6, 0.7,\n",
       "                                             0.8, 0.9, 0.999999],\n",
       "                             'n_estimators': [100, 200, 300, 400]})"
      ]
     },
     "execution_count": 134,
     "metadata": {},
     "output_type": "execute_result"
    }
   ],
   "source": [
    "model = RandomForestClassifier()\n",
    "param_grid = {'n_estimators': [100,200,300,400],\n",
    "              'bootstrap':    [True], \n",
    "              'max_depth':    Integer(1,20), \n",
    "              'max_features': Integer(1,16),\n",
    "              'max_samples':  [0.1,0.2,0.3,0.4,0.5,0.6,0.7,0.8,0.9,0.999999]}\n",
    "cv = RepeatedKFold(n_splits=5, n_repeats=1, random_state=1)\n",
    "search5 = BayesSearchCV(estimator=model, search_spaces=param_grid, n_iter=10, cv=cv, n_jobs=-1, return_train_score=True, random_state=1, verbose=0)\n",
    "search5.fit(x_train_scaled, y_train)"
   ]
  },
  {
   "attachments": {},
   "cell_type": "markdown",
   "metadata": {},
   "source": [
    "Lets check the average CV scores and the best hyperparameters:"
   ]
  },
  {
   "cell_type": "code",
   "execution_count": 135,
   "metadata": {},
   "outputs": [
    {
     "name": "stdout",
     "output_type": "stream",
     "text": [
      "Optimal hyperparameters of the model = OrderedDict([('bootstrap', True), ('max_depth', 15), ('max_features', 13), ('max_samples', 0.6), ('n_estimators', 300)])\n",
      "CV AVG train score of the model = 0.9632\n",
      "CV AVG validation score of the model = 0.8471\n"
     ]
    }
   ],
   "source": [
    "accuracy_rf_cv_train = search5.cv_results_['mean_train_score'][search5.best_index_].round(4)\n",
    "accuracy_rf_cv_val = search5.cv_results_['mean_test_score'][search5.best_index_].round(4)\n",
    "\n",
    "print(f\"Optimal hyperparameters of the model = {search5.best_params_}\")\n",
    "print(f\"CV AVG train score of the model = {accuracy_rf_cv_train}\")\n",
    "print(f\"CV AVG validation score of the model = {accuracy_rf_cv_val}\")"
   ]
  },
  {
   "attachments": {},
   "cell_type": "markdown",
   "metadata": {},
   "source": [
    "Now, it is time to build model with the optimal hyperparameters using the whole training data (without cross-validation). Then, make final predictions on the blind test data."
   ]
  },
  {
   "cell_type": "code",
   "execution_count": 136,
   "metadata": {},
   "outputs": [
    {
     "name": "stdout",
     "output_type": "stream",
     "text": [
      "The accuracy of the model over the training data is 0.96.\n"
     ]
    },
    {
     "data": {
      "text/plain": [
       "(565892,)"
      ]
     },
     "execution_count": 136,
     "metadata": {},
     "output_type": "execute_result"
    }
   ],
   "source": [
    "# train model with optimal hyperparameters on the entire training data\n",
    "model5 = RandomForestClassifier(**search5.best_params_)\n",
    "model5.fit(x_train_scaled, y_train)\n",
    "\n",
    "# check the accuracy of the model on the training data itself\n",
    "y_pred = model5.predict(x_train_scaled)\n",
    "accuracy_rf_train = accuracy_score(y_train, y_pred)\n",
    "print(f'The accuracy of the model over the training data is {accuracy_rf_train.round(3)}.')\n",
    "\n",
    "# make predictions on the test data\n",
    "y_pred = model5.predict(x_test_scaled)\n",
    "y_pred.shape"
   ]
  },
  {
   "attachments": {},
   "cell_type": "markdown",
   "metadata": {},
   "source": [
    "We make a csv file of the predictions to submit it."
   ]
  },
  {
   "cell_type": "code",
   "execution_count": 137,
   "metadata": {},
   "outputs": [
    {
     "data": {
      "text/plain": [
       "2    215549\n",
       "1    210891\n",
       "5     40824\n",
       "3     36243\n",
       "7     32981\n",
       "6     26620\n",
       "4      2784\n",
       "Name: Cover_Type, dtype: int64"
      ]
     },
     "execution_count": 137,
     "metadata": {},
     "output_type": "execute_result"
    }
   ],
   "source": [
    "submission5 = sample_submission.copy()\n",
    "submission5['Cover_Type'] = y_pred\n",
    "\n",
    "# Save the submission file\n",
    "submission5.to_csv('data/prediction/submission5.csv', index=False)\n",
    "\n",
    "# Check the submission file\n",
    "submission5['Cover_Type'].value_counts()"
   ]
  },
  {
   "cell_type": "code",
   "execution_count": 148,
   "metadata": {},
   "outputs": [],
   "source": [
    "# based on Kaggle \n",
    "accuracy_rf_test = 0.719"
   ]
  },
  {
   "attachments": {},
   "cell_type": "markdown",
   "metadata": {},
   "source": [
    "##### **Final Scores: CV train = 0.9632 | CV validation = 0.8471 | test (blind): 0.719** <br>\n",
    "_________________________________________________________________________________________________________________________________________________\n",
    "_________________________________________________________________________________________________________________________________________________"
   ]
  },
  {
   "attachments": {},
   "cell_type": "markdown",
   "metadata": {},
   "source": [
    "### **3.6 Model 6: Extra Trees**\n",
    "The sixth model we are going to develop is extra trees using `ExtraTreesClassifier` from scikit-learn."
   ]
  },
  {
   "cell_type": "code",
   "execution_count": 140,
   "metadata": {},
   "outputs": [
    {
     "data": {
      "text/plain": [
       "BayesSearchCV(cv=RepeatedKFold(n_repeats=1, n_splits=5, random_state=1),\n",
       "              estimator=ExtraTreesClassifier(), n_iter=10, n_jobs=-1,\n",
       "              random_state=1, return_train_score=True,\n",
       "              search_spaces={'bootstrap': [True],\n",
       "                             'max_depth': Integer(low=1, high=20, prior='uniform', transform='normalize'),\n",
       "                             'max_features': Integer(low=1, high=16, prior='uniform', transform='normalize'),\n",
       "                             'max_samples': [0.1, 0.2, 0.3, 0.4, 0.5, 0.6, 0.7,\n",
       "                                             0.8, 0.9, 0.999999],\n",
       "                             'n_estimators': [100, 200, 300, 400]})"
      ]
     },
     "execution_count": 140,
     "metadata": {},
     "output_type": "execute_result"
    }
   ],
   "source": [
    "model = ExtraTreesClassifier()\n",
    "param_grid = {'n_estimators': [100,200,300,400],\n",
    "              'bootstrap':    [True], \n",
    "              'max_depth':    Integer(1,20), \n",
    "              'max_features': Integer(1,16),\n",
    "              'max_samples':  [0.1,0.2,0.3,0.4,0.5,0.6,0.7,0.8,0.9,0.999999]}\n",
    "cv = RepeatedKFold(n_splits=5, n_repeats=1, random_state=1)\n",
    "search6 = BayesSearchCV(estimator=model, search_spaces=param_grid, n_iter=10, cv=cv, n_jobs=-1, return_train_score=True, random_state=1, verbose=0)\n",
    "search6.fit(x_train_scaled, y_train)"
   ]
  },
  {
   "attachments": {},
   "cell_type": "markdown",
   "metadata": {},
   "source": [
    "Lets check the average CV scores and the best hyperparameters:"
   ]
  },
  {
   "cell_type": "code",
   "execution_count": 141,
   "metadata": {},
   "outputs": [
    {
     "name": "stdout",
     "output_type": "stream",
     "text": [
      "Optimal hyperparameters of the model = OrderedDict([('bootstrap', True), ('max_depth', 15), ('max_features', 13), ('max_samples', 0.6), ('n_estimators', 300)])\n",
      "CV AVG train score of the model = 0.9264\n",
      "CV AVG validation score of the model = 0.8302\n"
     ]
    }
   ],
   "source": [
    "accuracy_et_cv_train = search6.cv_results_['mean_train_score'][search6.best_index_].round(4)\n",
    "accuracy_et_cv_val = search6.cv_results_['mean_test_score'][search6.best_index_].round(4)\n",
    "\n",
    "print(f\"Optimal hyperparameters of the model = {search6.best_params_}\")\n",
    "print(f\"CV AVG train score of the model = {accuracy_et_cv_train}\")\n",
    "print(f\"CV AVG validation score of the model = {accuracy_et_cv_val}\")"
   ]
  },
  {
   "attachments": {},
   "cell_type": "markdown",
   "metadata": {},
   "source": [
    "Now, it is time to build model with the optimal hyperparameters using the whole training data (without cross-validation). Then, make final predictions on the blind test data."
   ]
  },
  {
   "cell_type": "code",
   "execution_count": 142,
   "metadata": {},
   "outputs": [
    {
     "name": "stdout",
     "output_type": "stream",
     "text": [
      "The accuracy of the model over the training data is 0.92.\n"
     ]
    },
    {
     "data": {
      "text/plain": [
       "(565892,)"
      ]
     },
     "execution_count": 142,
     "metadata": {},
     "output_type": "execute_result"
    }
   ],
   "source": [
    "# train model with optimal hyperparameters on the entire training data\n",
    "model6 = ExtraTreesClassifier(**search6.best_params_)\n",
    "model6.fit(x_train_scaled, y_train)\n",
    "\n",
    "# check the accuracy of the model on the training data itself\n",
    "y_pred = model6.predict(x_train_scaled)\n",
    "accuracy_et_train = accuracy_score(y_train, y_pred)\n",
    "print(f'The accuracy of the model over the training data is {accuracy_et_train.round(3)}.')\n",
    "\n",
    "# make predictions on the test data\n",
    "y_pred = model6.predict(x_test_scaled)\n",
    "y_pred.shape"
   ]
  },
  {
   "attachments": {},
   "cell_type": "markdown",
   "metadata": {},
   "source": [
    "We make a csv file of the predictions to submit it."
   ]
  },
  {
   "cell_type": "code",
   "execution_count": 143,
   "metadata": {},
   "outputs": [
    {
     "data": {
      "text/plain": [
       "2    213497\n",
       "1    207770\n",
       "5     45101\n",
       "3     35289\n",
       "7     33096\n",
       "6     27503\n",
       "4      3636\n",
       "Name: Cover_Type, dtype: int64"
      ]
     },
     "execution_count": 143,
     "metadata": {},
     "output_type": "execute_result"
    }
   ],
   "source": [
    "submission6 = sample_submission.copy()\n",
    "submission6['Cover_Type'] = y_pred\n",
    "\n",
    "# Save the submission file\n",
    "submission6.to_csv('data/prediction/submission6.csv', index=False)\n",
    "\n",
    "# Check the submission file\n",
    "submission6['Cover_Type'].value_counts()"
   ]
  },
  {
   "cell_type": "code",
   "execution_count": 149,
   "metadata": {},
   "outputs": [],
   "source": [
    "# based on Kaggle \n",
    "accuracy_et_test = 0.698"
   ]
  },
  {
   "attachments": {},
   "cell_type": "markdown",
   "metadata": {},
   "source": [
    "##### **Final Scores: CV train = 0.9264 | CV validation = 0.8302 | test (blind): 0.698** <br>\n",
    "_________________________________________________________________________________________________________________________________________________\n",
    "_________________________________________________________________________________________________________________________________________________"
   ]
  },
  {
   "attachments": {},
   "cell_type": "markdown",
   "metadata": {},
   "source": [
    "### **3.7 Comparing Models**\n",
    "Here, we compare all the accuracy scores of the models developed so far. <br>"
   ]
  },
  {
   "cell_type": "code",
   "execution_count": 154,
   "metadata": {},
   "outputs": [
    {
     "data": {
      "image/png": "[encoded data removed]",
      "text/plain": [
       "<Figure size 1000x400 with 1 Axes>"
      ]
     },
     "metadata": {},
     "output_type": "display_data"
    }
   ],
   "source": [
    "# compare accuracy of the models (CV train, CV validation, test)\n",
    "accuracy = pd.DataFrame({'Model': ['Logistic Regression', 'KNN', 'Decision Tree', 'Gradient Boosting', 'Random Forest', 'Extra Trees'],\n",
    "                            'CV AVG Train Accuracy': [accuracy_lr_cv_train, accuracy_knn_cv_train, accuracy_dt_cv_train, accuracy_gbt_cv_train, accuracy_rf_cv_train, accuracy_et_cv_train],\n",
    "                            'CV AVG Validation Accuracy': [accuracy_lr_cv_val, accuracy_knn_cv_val, accuracy_dt_cv_val, accuracy_gbt_cv_val, accuracy_rf_cv_val, accuracy_et_cv_val],\n",
    "                            'Test Accuracy': [accuracy_lr_test, accuracy_knn_test, accuracy_dt_test, accuracy_gbt_test, accuracy_rf_test, accuracy_et_test]})\n",
    "accuracy.sort_values(by='Test Accuracy', ascending=True)\n",
    "\n",
    "# plot the accuracy of the models (CV train, CV validation, test)\n",
    "accuracy.plot(x='Model', y=['CV AVG Train Accuracy', 'CV AVG Validation Accuracy', 'Test Accuracy'], kind='bar', figsize=(10,4), title='Accuracy of the models', rot=0)\n",
    "plt.ylabel('Accuracy')\n",
    "# set y axis values by 0.1 interval\n",
    "plt.yticks(np.arange(0, 1.1, 0.1))\n",
    "# Add horizontal grid lines for y axis\n",
    "plt.grid(axis='y', linestyle='--')\n",
    "plt.show()\n"
   ]
  },
  {
   "attachments": {},
   "cell_type": "markdown",
   "metadata": {},
   "source": [
    "As can be seen, the **gradient boosting tree model** outperforms other models considering cross-validation scores and blind test scores."
   ]
  },
  {
   "attachments": {},
   "cell_type": "markdown",
   "metadata": {},
   "source": [
    "### **3.8 More About Best Model**\n",
    "Here, we take a look at the confusion matrix for the predictions of the best model and the feature importances. Considering the fact that the true labels of the test set are not available and we used the full train set to develop the models with cross-validation, we split the train set into train-validation (80%-20%), develop the best model on the train set, and make predictions on the validation set. Then, we take a look at the confusion matrix for the predictions of the validation set."
   ]
  },
  {
   "cell_type": "code",
   "execution_count": 158,
   "metadata": {},
   "outputs": [
    {
     "name": "stdout",
     "output_type": "stream",
     "text": [
      "The accuracy of the model over the validation data is 0.856.\n"
     ]
    }
   ],
   "source": [
    "# split the training data into train and validation data (80:20) as a holdout case\n",
    "x_train_ho, x_val_ho, y_train_ho, y_val_ho = train_test_split(x_train_scaled, y_train, test_size=0.2, random_state=1)\n",
    "\n",
    "# train the best model on the (x_train_ho, y_train_ho) data\n",
    "model = GradientBoostingClassifier(**search4.best_params_)\n",
    "model.fit(x_train_ho, y_train_ho)\n",
    "\n",
    "# check the accuracy of the model on the validation data\n",
    "y_pred = model.predict(x_val_ho)\n",
    "accuracy_gbt_ho = accuracy_score(y_val_ho, y_pred)\n",
    "print(f'The accuracy of the model over the validation data is {accuracy_gbt_ho.round(3)}.')"
   ]
  },
  {
   "cell_type": "code",
   "execution_count": 159,
   "metadata": {},
   "outputs": [
    {
     "data": {
      "image/png": "[encoded data removed]",
      "text/plain": [
       "<Figure size 1000x600 with 2 Axes>"
      ]
     },
     "metadata": {},
     "output_type": "display_data"
    }
   ],
   "source": [
    "# visualize confusion matrix of the best model (Gradient Boosting) on the validation data\n",
    "cm = confusion_matrix(y_val_ho, y_pred)\n",
    "cm = pd.DataFrame(cm, index=range(1,8), columns=range(1,8))\n",
    "plt.figure(figsize=(10,6))\n",
    "sns.heatmap(cm, annot=True, fmt='d', cmap='Blues')\n",
    "plt.title('Confusion Matrix of the Gradient Boosting model on the validation data')\n",
    "plt.xlabel('Predicted')\n",
    "plt.ylabel('Actual')\n",
    "plt.show()"
   ]
  },
  {
   "attachments": {},
   "cell_type": "markdown",
   "metadata": {},
   "source": [
    "As can be seen, the major part of the misclassification has happened for cover types 1 and 2. The model has the best performance on cover types 4, 5, and 7 with the largest truely classified labels. <br>\n",
    "Lets take a look at the feature importance values."
   ]
  },
  {
   "cell_type": "code",
   "execution_count": 167,
   "metadata": {},
   "outputs": [
    {
     "data": {
      "image/png": "[encoded data removed]",
      "text/plain": [
       "<Figure size 1000x600 with 1 Axes>"
      ]
     },
     "metadata": {},
     "output_type": "display_data"
    }
   ],
   "source": [
    "# visualize the feature importance of the best model (Gradient Boosting) for the first 30 most important features\n",
    "feature_importance = pd.DataFrame({'Feature': x_train.columns, 'Importance': model4.feature_importances_})\n",
    "feature_importance.sort_values(by='Importance', ascending=False, inplace=True)\n",
    "plt.figure(figsize=(10,6))\n",
    "sns.barplot(x='Importance', y='Feature', data=feature_importance[:30])\n",
    "plt.title('Feature Importance of the Gradient Boosting model')\n",
    "plt.xlabel('Importance')\n",
    "plt.ylabel('Feature')\n",
    "plt.show()"
   ]
  },
  {
   "attachments": {},
   "cell_type": "markdown",
   "metadata": {},
   "source": [
    "As can be seen, the most important features are : <br>\n",
    "    1. `Elevation` <br>\n",
    "    2. `Wilderness_Area1` <br>\n",
    "    3. `Horizontal_Distance_To_Roadways` <br>\n",
    "    4. `Horizontal_Distance_To_Fire_Points` <br>\n",
    "    5. `Horizontal_Distance_To_Hydrology` <br>\n",
    "    6. `Hillshade_9am` <br>\n",
    "\n",
    "That is while based on the previous data analysis, the six features with the largest correlation with the target are: <br>\n",
    "    1. `Soil_Type38` <br>\n",
    "    2. `Soil_Type39` <br>\n",
    "    3. `Wilderness_Area1` <br>\n",
    "    4. `Soil_Type40` <br>\n",
    "    5. `Soil_Type29` <br>\n",
    "    6. `Soil_Type22` <br>\n",
    "\n",
    "Moreover, the six features with the largest PP score are: <br>\n",
    "    1. `Soil_Type_code` <br>\n",
    "    2. `Elevation` <br>\n",
    "    3. `Horizontal_Distance_To_Roadways` <br>\n",
    "    4. `Horizontal_Distance_To_Hydrology` <br>\n",
    "    5. `Hillshade_9am` <br>\n",
    "    6. `Vertical_Distance_To_Hydrology` <br>"
   ]
  },
  {
   "attachments": {},
   "cell_type": "markdown",
   "metadata": {},
   "source": [
    "## **4. Developing Separate Models for Each Wilderness Area:**\n",
    "As shown in the data analysis stage, the frequency of the target labels in each wilderness area is different from the other. Moreover, the PP score of the features are different for wilderness areas. Hence, we try developing separate models for each wilderness area and compare the performance of the models with the previous ones. We use gradient boosting trees for this purpose."
   ]
  },
  {
   "cell_type": "code",
   "execution_count": 181,
   "metadata": {},
   "outputs": [],
   "source": [
    "# separating x_train - y_train - x_test data based on Wilderness_Area_code \n",
    "x_train_w1 = x_train_scaled[x_train['Wilderness_Area_code'] == 1].reset_index(drop=True)\n",
    "x_train_w2 = x_train_scaled[x_train['Wilderness_Area_code'] == 2].reset_index(drop=True)\n",
    "x_train_w3 = x_train_scaled[x_train['Wilderness_Area_code'] == 3].reset_index(drop=True)\n",
    "x_train_w4 = x_train_scaled[x_train['Wilderness_Area_code'] == 4].reset_index(drop=True)\n",
    "x_test_w1 = x_test_scaled[x_test['Wilderness_Area_code'] == 1].reset_index(drop=True)\n",
    "x_test_w2 = x_test_scaled[x_test['Wilderness_Area_code'] == 2].reset_index(drop=True)\n",
    "x_test_w3 = x_test_scaled[x_test['Wilderness_Area_code'] == 3].reset_index(drop=True)\n",
    "x_test_w4 = x_test_scaled[x_test['Wilderness_Area_code'] == 4].reset_index(drop=True)\n",
    "y_train_w1 = y_train[x_train['Wilderness_Area_code'] == 1].reset_index(drop=True)\n",
    "y_train_w2 = y_train[x_train['Wilderness_Area_code'] == 2].reset_index(drop=True)\n",
    "y_train_w3 = y_train[x_train['Wilderness_Area_code'] == 3].reset_index(drop=True)\n",
    "y_train_w4 = y_train[x_train['Wilderness_Area_code'] == 4].reset_index(drop=True)\n",
    "\n",
    "# drop the Wilderness_Area_code column from x_train_w - x_test_w data\n",
    "x_train_w1.drop(['Wilderness_Area_code','Wilderness_Area1','Wilderness_Area2','Wilderness_Area3','Wilderness_Area4'], axis=1, inplace=True)\n",
    "x_train_w2.drop(['Wilderness_Area_code','Wilderness_Area1','Wilderness_Area2','Wilderness_Area3','Wilderness_Area4'], axis=1, inplace=True)\n",
    "x_train_w3.drop(['Wilderness_Area_code','Wilderness_Area1','Wilderness_Area2','Wilderness_Area3','Wilderness_Area4'], axis=1, inplace=True)\n",
    "x_train_w4.drop(['Wilderness_Area_code','Wilderness_Area1','Wilderness_Area2','Wilderness_Area3','Wilderness_Area4'], axis=1, inplace=True)\n",
    "x_test_w1.drop(['Wilderness_Area_code','Wilderness_Area1','Wilderness_Area2','Wilderness_Area3','Wilderness_Area4'], axis=1, inplace=True)\n",
    "x_test_w2.drop(['Wilderness_Area_code','Wilderness_Area1','Wilderness_Area2','Wilderness_Area3','Wilderness_Area4'], axis=1, inplace=True)\n",
    "x_test_w3.drop(['Wilderness_Area_code','Wilderness_Area1','Wilderness_Area2','Wilderness_Area3','Wilderness_Area4'], axis=1, inplace=True)\n",
    "x_test_w4.drop(['Wilderness_Area_code','Wilderness_Area1','Wilderness_Area2','Wilderness_Area3','Wilderness_Area4'], axis=1, inplace=True)"
   ]
  },
  {
   "cell_type": "code",
   "execution_count": 182,
   "metadata": {},
   "outputs": [
    {
     "data": {
      "text/plain": [
       "BayesSearchCV(cv=RepeatedKFold(n_repeats=1, n_splits=5, random_state=1),\n",
       "              estimator=GradientBoostingClassifier(), n_iter=10, n_jobs=-1,\n",
       "              random_state=1, return_train_score=True,\n",
       "              search_spaces={'learning_rate': Real(low=0.001, high=1, prior='log-uniform', transform='normalize'),\n",
       "                             'max_depth': Integer(low=1, high=20, prior='uniform', transform='normalize'),\n",
       "                             'n_estimators': Integer(low=1, high=300, prior='uniform', transform='normalize')})"
      ]
     },
     "execution_count": 182,
     "metadata": {},
     "output_type": "execute_result"
    }
   ],
   "source": [
    "# train the model for Wilderness_Area1\n",
    "model = GradientBoostingClassifier()\n",
    "param_grid = {'max_depth'     : Integer(1,20), \n",
    "              'learning_rate' : Real(1e-3, 1, prior='log-uniform'),\n",
    "              'n_estimators'  : Integer(1,300)}\n",
    "cv = RepeatedKFold(n_splits=5, n_repeats=1, random_state=1)\n",
    "search_w1 = BayesSearchCV(estimator=model, search_spaces=param_grid, n_iter=10, cv=cv, n_jobs=-1, return_train_score=True, random_state=1, verbose=0)\n",
    "search_w1.fit(x_train_w1, y_train_w1)"
   ]
  },
  {
   "cell_type": "code",
   "execution_count": 183,
   "metadata": {},
   "outputs": [
    {
     "data": {
      "text/plain": [
       "BayesSearchCV(cv=RepeatedKFold(n_repeats=1, n_splits=5, random_state=1),\n",
       "              estimator=GradientBoostingClassifier(), n_iter=10, n_jobs=-1,\n",
       "              random_state=1, return_train_score=True,\n",
       "              search_spaces={'learning_rate': Real(low=0.001, high=1, prior='log-uniform', transform='normalize'),\n",
       "                             'max_depth': Integer(low=1, high=20, prior='uniform', transform='normalize'),\n",
       "                             'n_estimators': Integer(low=1, high=300, prior='uniform', transform='normalize')})"
      ]
     },
     "execution_count": 183,
     "metadata": {},
     "output_type": "execute_result"
    }
   ],
   "source": [
    "# train the model for Wilderness_Area2\n",
    "model = GradientBoostingClassifier()\n",
    "param_grid = {'max_depth'     : Integer(1,20), \n",
    "              'learning_rate' : Real(1e-3, 1, prior='log-uniform'),\n",
    "              'n_estimators'  : Integer(1,300)}\n",
    "cv = RepeatedKFold(n_splits=5, n_repeats=1, random_state=1)\n",
    "search_w2 = BayesSearchCV(estimator=model, search_spaces=param_grid, n_iter=10, cv=cv, n_jobs=-1, return_train_score=True, random_state=1, verbose=0)\n",
    "search_w2.fit(x_train_w2, y_train_w2)"
   ]
  },
  {
   "cell_type": "code",
   "execution_count": 184,
   "metadata": {},
   "outputs": [
    {
     "data": {
      "text/plain": [
       "BayesSearchCV(cv=RepeatedKFold(n_repeats=1, n_splits=5, random_state=1),\n",
       "              estimator=GradientBoostingClassifier(), n_iter=10, n_jobs=-1,\n",
       "              random_state=1, return_train_score=True,\n",
       "              search_spaces={'learning_rate': Real(low=0.001, high=1, prior='log-uniform', transform='normalize'),\n",
       "                             'max_depth': Integer(low=1, high=20, prior='uniform', transform='normalize'),\n",
       "                             'n_estimators': Integer(low=1, high=300, prior='uniform', transform='normalize')})"
      ]
     },
     "execution_count": 184,
     "metadata": {},
     "output_type": "execute_result"
    }
   ],
   "source": [
    "# train the model for Wilderness_Area3\n",
    "model = GradientBoostingClassifier()\n",
    "param_grid = {'max_depth'     : Integer(1,20), \n",
    "              'learning_rate' : Real(1e-3, 1, prior='log-uniform'),\n",
    "              'n_estimators'  : Integer(1,300)}\n",
    "cv = RepeatedKFold(n_splits=5, n_repeats=1, random_state=1)\n",
    "search_w3 = BayesSearchCV(estimator=model, search_spaces=param_grid, n_iter=10, cv=cv, n_jobs=-1, return_train_score=True, random_state=1, verbose=0)\n",
    "search_w3.fit(x_train_w3, y_train_w3)"
   ]
  },
  {
   "cell_type": "code",
   "execution_count": 185,
   "metadata": {},
   "outputs": [
    {
     "data": {
      "text/plain": [
       "BayesSearchCV(cv=RepeatedKFold(n_repeats=1, n_splits=5, random_state=1),\n",
       "              estimator=GradientBoostingClassifier(), n_iter=10, n_jobs=-1,\n",
       "              random_state=1, return_train_score=True,\n",
       "              search_spaces={'learning_rate': Real(low=0.001, high=1, prior='log-uniform', transform='normalize'),\n",
       "                             'max_depth': Integer(low=1, high=20, prior='uniform', transform='normalize'),\n",
       "                             'n_estimators': Integer(low=1, high=300, prior='uniform', transform='normalize')})"
      ]
     },
     "execution_count": 185,
     "metadata": {},
     "output_type": "execute_result"
    }
   ],
   "source": [
    "# train the model for Wilderness_Area4\n",
    "model = GradientBoostingClassifier()\n",
    "param_grid = {'max_depth'     : Integer(1,20), \n",
    "              'learning_rate' : Real(1e-3, 1, prior='log-uniform'),\n",
    "              'n_estimators'  : Integer(1,300)}\n",
    "cv = RepeatedKFold(n_splits=5, n_repeats=1, random_state=1)\n",
    "search_w4 = BayesSearchCV(estimator=model, search_spaces=param_grid, n_iter=10, cv=cv, n_jobs=-1, return_train_score=True, random_state=1, verbose=0)\n",
    "search_w4.fit(x_train_w4, y_train_w4)"
   ]
  },
  {
   "cell_type": "code",
   "execution_count": 186,
   "metadata": {},
   "outputs": [
    {
     "name": "stdout",
     "output_type": "stream",
     "text": [
      "CV train score for Wilderness_Area1:  1.0\n",
      "CV train score for Wilderness_Area2:  0.994\n",
      "CV train score for Wilderness_Area3:  1.0\n",
      "CV train score for Wilderness_Area4:  1.0\n",
      "CV val score for Wilderness_Area1:  0.868\n",
      "CV val score for Wilderness_Area2:  0.866\n",
      "CV val score for Wilderness_Area3:  0.851\n",
      "CV val score for Wilderness_Area4:  0.896\n"
     ]
    }
   ],
   "source": [
    "# compare CV scores of the models\n",
    "accuracy_cv_train_w1 = search_w1.cv_results_['mean_train_score'][search_w1.best_index_].round(4)\n",
    "accuracy_cv_val_w1 = search_w1.cv_results_['mean_test_score'][search_w1.best_index_].round(4)\n",
    "accuracy_cv_train_w2 = search_w2.cv_results_['mean_train_score'][search_w2.best_index_].round(4)\n",
    "accuracy_cv_val_w2 = search_w2.cv_results_['mean_test_score'][search_w2.best_index_].round(4)\n",
    "accuracy_cv_train_w3 = search_w3.cv_results_['mean_train_score'][search_w3.best_index_].round(4)\n",
    "accuracy_cv_val_w3 = search_w3.cv_results_['mean_test_score'][search_w3.best_index_].round(4)\n",
    "accuracy_cv_train_w4 = search_w4.cv_results_['mean_train_score'][search_w4.best_index_].round(4)\n",
    "accuracy_cv_val_w4 = search_w4.cv_results_['mean_test_score'][search_w4.best_index_].round(4)\n",
    "\n",
    "print('CV train score for Wilderness_Area1: ', accuracy_cv_train_w1.round(3))\n",
    "print('CV train score for Wilderness_Area2: ', accuracy_cv_train_w2.round(3))\n",
    "print('CV train score for Wilderness_Area3: ', accuracy_cv_train_w3.round(3))\n",
    "print('CV train score for Wilderness_Area4: ', accuracy_cv_train_w4.round(3))\n",
    "print('CV val score for Wilderness_Area1: ', accuracy_cv_val_w1.round(3))\n",
    "print('CV val score for Wilderness_Area2: ', accuracy_cv_val_w2.round(3))\n",
    "print('CV val score for Wilderness_Area3: ', accuracy_cv_val_w3.round(3))\n",
    "print('CV val score for Wilderness_Area4: ', accuracy_cv_val_w4.round(3))"
   ]
  },
  {
   "cell_type": "code",
   "execution_count": 187,
   "metadata": {},
   "outputs": [
    {
     "data": {
      "text/plain": [
       "GradientBoostingClassifier(learning_rate=0.7992771350784278, max_depth=9,\n",
       "                           n_estimators=180)"
      ]
     },
     "execution_count": 187,
     "metadata": {},
     "output_type": "execute_result"
    }
   ],
   "source": [
    "# train the best models on the full training set of each Wilderness_Area\n",
    "model_w1 = GradientBoostingClassifier(**search_w1.best_params_)\n",
    "model_w1.fit(x_train_w1, y_train_w1)\n",
    "\n",
    "model_w2 = GradientBoostingClassifier(**search_w2.best_params_)\n",
    "model_w2.fit(x_train_w2, y_train_w2)\n",
    "\n",
    "model_w3 = GradientBoostingClassifier(**search_w3.best_params_)\n",
    "model_w3.fit(x_train_w3, y_train_w3)\n",
    "\n",
    "model_w4 = GradientBoostingClassifier(**search_w4.best_params_)\n",
    "model_w4.fit(x_train_w4, y_train_w4)"
   ]
  },
  {
   "cell_type": "code",
   "execution_count": 188,
   "metadata": {},
   "outputs": [
    {
     "data": {
      "text/plain": [
       "((257199,), (29385,), (247015,), (32293,))"
      ]
     },
     "execution_count": 188,
     "metadata": {},
     "output_type": "execute_result"
    }
   ],
   "source": [
    "# make predictions on the test set\n",
    "y_pred_w1 = model_w1.predict(x_test_w1)\n",
    "y_pred_w2 = model_w2.predict(x_test_w2)\n",
    "y_pred_w3 = model_w3.predict(x_test_w3)\n",
    "y_pred_w4 = model_w4.predict(x_test_w4)\n",
    "\n",
    "y_pred_w1.shape, y_pred_w2.shape, y_pred_w3.shape, y_pred_w4.shape"
   ]
  },
  {
   "cell_type": "code",
   "execution_count": 215,
   "metadata": {},
   "outputs": [
    {
     "data": {
      "text/plain": [
       "2    234110\n",
       "1    210919\n",
       "3     35582\n",
       "5     29634\n",
       "7     29245\n",
       "6     24308\n",
       "4      2094\n",
       "Name: Cover_Type, dtype: int64"
      ]
     },
     "execution_count": 215,
     "metadata": {},
     "output_type": "execute_result"
    }
   ],
   "source": [
    "# combine the predictions of the models based on the Wilderness_Area_code\n",
    "submission7 = sample_submission.copy()\n",
    "submission7['Cover_Type'] = np.nan\n",
    "submission7.loc[x_test['Wilderness_Area_code'] == 1, 'Cover_Type'] = y_pred_w1\n",
    "submission7.loc[x_test['Wilderness_Area_code'] == 2, 'Cover_Type'] = y_pred_w2\n",
    "submission7.loc[x_test['Wilderness_Area_code'] == 3, 'Cover_Type'] = y_pred_w3\n",
    "submission7.loc[x_test['Wilderness_Area_code'] == 4, 'Cover_Type'] = y_pred_w4\n",
    "submission7['Cover_Type'] = submission7['Cover_Type'].astype(int)\n",
    "submission7['Cover_Type'].value_counts()"
   ]
  },
  {
   "cell_type": "code",
   "execution_count": 216,
   "metadata": {},
   "outputs": [],
   "source": [
    "# Save the submission file\n",
    "submission7.to_csv('data/prediction/submission7.csv', index=False)"
   ]
  },
  {
   "attachments": {},
   "cell_type": "markdown",
   "metadata": {},
   "source": [
    "##### **Final Score: test (blind): 0.763** <br>\n",
    "\n",
    "The accuracy score on the blind test set is just slightly better than the previously developed gradient boosting model (developed on the full training set with accuracy on the blind test set of 0.761). <br>\n",
    "_________________________________________________________________________________________________________________________________________________\n",
    "_________________________________________________________________________________________________________________________________________________"
   ]
  }
 ],
 "metadata": {
  "kernelspec": {
   "display_name": "envtf",
   "language": "python",
   "name": "python3"
  },
  "language_info": {
   "codemirror_mode": {
    "name": "ipython",
    "version": 3
   },
   "file_extension": ".py",
   "mimetype": "text/x-python",
   "name": "python",
   "nbconvert_exporter": "python",
   "pygments_lexer": "ipython3",
   "version": "3.9.15"
  },
  "orig_nbformat": 4,
  "vscode": {
   "interpreter": {
    "hash": "9ddf6f5be8f1192cf70682edcaa6aaad42b4d7dc59537661b95caff2b632d806"
   }
  }
 },
 "nbformat": 4,
 "nbformat_minor": 2
}
